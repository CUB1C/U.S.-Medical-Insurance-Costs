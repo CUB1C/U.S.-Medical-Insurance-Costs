{
 "cells": [
  {
   "cell_type": "markdown",
   "metadata": {},
   "source": [
    "# U.S. Medical Insurance Costs"
   ]
  },
  {
   "cell_type": "markdown",
   "metadata": {},
   "source": [
    "In this project, a CSV file containing medical insurance data will be investigated using Python."
   ]
  },
  {
   "cell_type": "markdown",
   "metadata": {},
   "source": [
    "The goals for this project will include:\n",
    "\n",
    "- Finding the average age of patients\n",
    "- Returning the number of Males vs Females\n",
    "- Finding the geographical location of the patients\n",
    "- Returning the average yearly charges to the patient\n",
    "- Comparing the average cost of insurance of smokers vs non smokers\n",
    "- Finding the average age of someone with atleast one child"
   ]
  },
  {
   "cell_type": "markdown",
   "metadata": {},
   "source": [
    "The first step is to import the relevant python libraries. Due to the file format, the CSV python library will be needed to work with the data."
   ]
  },
  {
   "cell_type": "code",
   "execution_count": 1,
   "metadata": {},
   "outputs": [],
   "source": [
    "# import csv library\n",
    "import csv"
   ]
  },
  {
   "cell_type": "markdown",
   "metadata": {},
   "source": [
    "The next step is to inspect the data in a text editor and find the names of the columns, types of data and if any of the data is missing"
   ]
  },
  {
   "cell_type": "markdown",
   "metadata": {},
   "source": [
    "There are no missing values and each records contains 7 pieces of data which includes:\n",
    "- Age - integer value\n",
    "- Sex - male or female\n",
    "- BMI - float value\n",
    "- Children - integer value\n",
    "- Smoker - string value (yes or no)\n",
    "- Region - string value\n",
    "- Charges - float value\n",
    "\n",
    "To process and analyse this data, empty lists need to be created for every attribute"
   ]
  },
  {
   "cell_type": "code",
   "execution_count": 2,
   "metadata": {},
   "outputs": [],
   "source": [
    "ages = []\n",
    "sexes = []\n",
    "bmis = []\n",
    "num_children = []\n",
    "smoker_statuses = []\n",
    "regions = []\n",
    "insurance_charges = []"
   ]
  },
  {
   "cell_type": "markdown",
   "metadata": {},
   "source": [
    "To import the data into the lists, there are several approaches that can be taken. First option is to create 7 `for` loops which appends the data into the relevant list. \n",
    "\n",
    "Another approach is to make a function which takes the insurance.csv file, list and a column number as inputs and appends the data into the right list.\n",
    "This approach reduces code repetition and will make the process more efficient overall and will make importing a new set of data easier as well\n"
   ]
  },
  {
   "cell_type": "code",
   "execution_count": 3,
   "metadata": {},
   "outputs": [],
   "source": [
    "def import_data(lst, file, column):\n",
    "    \n",
    "    with open(file) as dataset:\n",
    "        data = csv.DictReader(dataset)\n",
    "        \n",
    "        for row in data:\n",
    "            lst.append(row[column])\n",
    "\n",
    "    # return lst\n",
    "    \n",
    "# testing the import function\n",
    "#import_data(ages,'insurance.csv','age')\n",
    "#print(ages)"
   ]
  },
  {
   "cell_type": "markdown",
   "metadata": {},
   "source": [
    "With this function, data can now be stored in the lists created earlier"
   ]
  },
  {
   "cell_type": "code",
   "execution_count": 4,
   "metadata": {},
   "outputs": [],
   "source": [
    "import_data(ages, 'insurance.csv', 'age')\n",
    "import_data(sexes, 'insurance.csv', 'sex')\n",
    "import_data(bmis, 'insurance.csv', 'bmi')\n",
    "import_data(num_children, 'insurance.csv', 'children')\n",
    "import_data(smoker_statuses, 'insurance.csv', 'smoker')\n",
    "import_data(regions, 'insurance.csv', 'region')\n",
    "import_data(insurance_charges, 'insurance.csv', 'charges')"
   ]
  },
  {
   "cell_type": "markdown",
   "metadata": {},
   "source": [
    "Now that all the data is stored in the relevant lists, the analysis can be started. This will include:\n",
    "- Finding the average age of patients\n",
    "- Returning the number of Males vs Females\n",
    "- Finding the geographical location of the patients\n",
    "- Returning the average yearly charges\n",
    "- Comparing the average cost of insurance of smokers vs non smokers\n",
    "- Finding the average age of someone with atleast one child\n",
    "\n",
    "To do this, a new class has been created called `PatientsInfo` which will contain a method to tackle each one of these objectives"
   ]
  },
  {
   "cell_type": "code",
   "execution_count": 5,
   "metadata": {},
   "outputs": [],
   "source": [
    "class PatientInfo:\n",
    "    # initialisation takes the lists of data as input parameters\n",
    "    def __init__(self, patient_ages, patient_sexes, patient_bmis, patient_num_children, \n",
    "                 patient_smoker_statuses, patient_regions, patient_charges):\n",
    "        self.patient_ages = patient_ages\n",
    "        self.patient_sexes = patient_sexes\n",
    "        self.patient_bmis = patient_bmis\n",
    "        self.patient_num_children = patient_num_children\n",
    "        self.patient_smoker_statuses = patient_smoker_statuses\n",
    "        self.patient_regions = patient_regions\n",
    "        self.patient_charges = patient_charges\n",
    "        \n",
    "    def average_age(self):\n",
    "        total_age = 0\n",
    "        for age in self.patient_ages:\n",
    "            total_age += int(age)\n",
    "        # Average age is rounded to 2 decimal places after dividing the total by the length of the list\n",
    "        print(\"Average Patient Age: {} years\".format(round(total_age/len(self.patient_ages), 2)))\n",
    "    \n",
    "    def male_female(self):\n",
    "        males = self.patient_sexes.count('male')\n",
    "        females = self.patient_sexes.count('female')\n",
    "        \n",
    "        print('Females: {}'.format(females))\n",
    "        print('Males: {}'.format(males))\n",
    "\n",
    "    def unique_regions(self):\n",
    "        unique_regions = []\n",
    "        for region in self.patient_regions:\n",
    "            if region not in unique_regions:\n",
    "                unique_regions.append(region)\n",
    "        return unique_regions\n",
    "    \n",
    "    def average_charges(self):\n",
    "        total = 0.0\n",
    "        for item in self.patient_charges:\n",
    "            # values are stored as strings so must be converted to a float value\n",
    "            total += float(item)\n",
    "        print('Average yearly insurance costs: ${}'.format(round(total/len(self.patient_charges),2)))\n",
    "        \n",
    "    # method which compares the average insurance cost of smokers vs non-smokers\n",
    "    def smoker_charges(self):\n",
    "        smoker_count = 0\n",
    "        smoker_cost = 0.0\n",
    "        non_smoker_count = 0\n",
    "        non_smoker_cost = 0\n",
    "        # looping through a list of smoker status and their charges zipped\n",
    "        for item in list(zip(self.patient_smoker_statuses, self.patient_charges)):\n",
    "            if item[0] == 'yes':\n",
    "                smoker_count += 1\n",
    "                smoker_cost += float(item[1])\n",
    "            else:\n",
    "                non_smoker_count += 1\n",
    "                non_smoker_cost += float(item[1])\n",
    "        print('Average smoker insurance cost: ${}'.format(round(smoker_cost/smoker_count),2))\n",
    "        print('Average non smoker insurance cost: ${}'.format(round(non_smoker_cost/non_smoker_count),2))\n",
    "        \n",
    "    # works out the average age of someone with atleast 1 child\n",
    "    def one_child_age(self):\n",
    "        total_age = 0\n",
    "        count = 0\n",
    "        # combining the ages and number of children into a list and then looping through it\n",
    "        for item in list(zip(self.patient_ages, self.patient_num_children)):\n",
    "            if int(item[1]) > 1:\n",
    "                total_age += int(item[0])\n",
    "                count += 1\n",
    "        print('Average age of patients with atleast 1 child is {}'.format(round(total_age/count,1)))\n",
    "        \n",
    "        "
   ]
  },
  {
   "cell_type": "markdown",
   "metadata": {},
   "source": [
    "The next step is to create an instance of the `PatientsInfo` class so that we can use the methods inside of it. The lists containing the data will be input parameters"
   ]
  },
  {
   "cell_type": "code",
   "execution_count": 6,
   "metadata": {},
   "outputs": [],
   "source": [
    "patient_info = PatientInfo(ages, sexes, bmis, num_children, smoker_statuses, regions, insurance_charges)"
   ]
  },
  {
   "cell_type": "code",
   "execution_count": 7,
   "metadata": {},
   "outputs": [
    {
     "name": "stdout",
     "output_type": "stream",
     "text": [
      "Average Patient Age: 39.21 years\n"
     ]
    }
   ],
   "source": [
    "patient_info.average_age()"
   ]
  },
  {
   "cell_type": "code",
   "execution_count": 8,
   "metadata": {},
   "outputs": [
    {
     "name": "stdout",
     "output_type": "stream",
     "text": [
      "Females: 662\n",
      "Males: 676\n"
     ]
    }
   ],
   "source": [
    "patient_info.male_female()"
   ]
  },
  {
   "cell_type": "code",
   "execution_count": 9,
   "metadata": {},
   "outputs": [
    {
     "data": {
      "text/plain": [
       "['southwest', 'southeast', 'northwest', 'northeast']"
      ]
     },
     "execution_count": 9,
     "metadata": {},
     "output_type": "execute_result"
    }
   ],
   "source": [
    "patient_info.unique_regions()"
   ]
  },
  {
   "cell_type": "code",
   "execution_count": 10,
   "metadata": {},
   "outputs": [
    {
     "name": "stdout",
     "output_type": "stream",
     "text": [
      "Average yearly insurance costs: $13270.42\n"
     ]
    }
   ],
   "source": [
    "patient_info.average_charges()"
   ]
  },
  {
   "cell_type": "code",
   "execution_count": 11,
   "metadata": {},
   "outputs": [
    {
     "name": "stdout",
     "output_type": "stream",
     "text": [
      "Average smoker insurance cost: $32050\n",
      "Average non smoker insurance cost: $8434\n"
     ]
    }
   ],
   "source": [
    "patient_info.smoker_charges()"
   ]
  },
  {
   "cell_type": "code",
   "execution_count": 12,
   "metadata": {},
   "outputs": [
    {
     "name": "stdout",
     "output_type": "stream",
     "text": [
      "Average age of patients with atleast 1 child is 40.0\n"
     ]
    }
   ],
   "source": [
    "patient_info.one_child_age()"
   ]
  },
  {
   "cell_type": "markdown",
   "metadata": {},
   "source": [
    "The average age of the patients in the dataset is around 39 years old. It is important to check this to ensure data is representative of the broader population\n",
    "\n",
    "Further analysis can be done by finding the range and standard deviation of the ages to ensure the patients represent a random sampling of a larger population\n",
    "\n",
    "The next objective of this project is to compare the number of male patients to female patients. Again, this is needed to ensure the data is representative of the broader population and if there is a large difference between the two values, analysis of the data will be affected\n",
    "\n",
    "The function returns 662 Females and 676 Males. With a difference of 14, this is around 1% of the sample size which indicates data is evenly spread between males and females\n",
    "\n",
    "There are 4 unique geographical regions in this dataset which are all based in the US and the average yearly costs per individual is 13270 dollas. Further analysis can be done to see how different variables will affect this cost such as smoking. The average insurance costs for a smoker is nearly 4 times higher than a non-smoker."
   ]
  }
 ],
 "metadata": {
  "kernelspec": {
   "display_name": "Python 3 (ipykernel)",
   "language": "python",
   "name": "python3"
  },
  "language_info": {
   "codemirror_mode": {
    "name": "ipython",
    "version": 3
   },
   "file_extension": ".py",
   "mimetype": "text/x-python",
   "name": "python",
   "nbconvert_exporter": "python",
   "pygments_lexer": "ipython3",
   "version": "3.10.9"
  }
 },
 "nbformat": 4,
 "nbformat_minor": 4
}
